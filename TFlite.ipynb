{
  "nbformat": 4,
  "nbformat_minor": 0,
  "metadata": {
    "colab": {
      "name": "TFlite.ipynb",
      "provenance": [],
      "authorship_tag": "ABX9TyMbJBaZEfXX6SaDfmIMNUQp",
      "include_colab_link": true
    },
    "kernelspec": {
      "name": "python3",
      "display_name": "Python 3"
    }
  },
  "cells": [
    {
      "cell_type": "markdown",
      "metadata": {
        "id": "view-in-github",
        "colab_type": "text"
      },
      "source": [
        "<a href=\"https://colab.research.google.com/github/mohamedsayed18/Pose_estimation/blob/master/TFlite.ipynb\" target=\"_parent\"><img src=\"https://colab.research.google.com/assets/colab-badge.svg\" alt=\"Open In Colab\"/></a>"
      ]
    },
    {
      "cell_type": "code",
      "metadata": {
        "id": "lT4u28-Knb6n",
        "colab_type": "code",
        "colab": {
          "base_uri": "https://localhost:8080/",
          "height": 64
        },
        "outputId": "bfbc296d-494a-461f-ee9a-283329a95d07"
      },
      "source": [
        "import numpy as np\n",
        "import tensorflow as tf\n",
        "import cv2 \n",
        "from matplotlib import pyplot as plt"
      ],
      "execution_count": 1,
      "outputs": [
        {
          "output_type": "display_data",
          "data": {
            "text/html": [
              "<p style=\"color: red;\">\n",
              "The default version of TensorFlow in Colab will soon switch to TensorFlow 2.x.<br>\n",
              "We recommend you <a href=\"https://www.tensorflow.org/guide/migrate\" target=\"_blank\">upgrade</a> now \n",
              "or ensure your notebook will continue to use TensorFlow 1.x via the <code>%tensorflow_version 1.x</code> magic:\n",
              "<a href=\"https://colab.research.google.com/notebooks/tensorflow_version.ipynb\" target=\"_blank\">more info</a>.</p>\n"
            ],
            "text/plain": [
              "<IPython.core.display.HTML object>"
            ]
          },
          "metadata": {
            "tags": []
          }
        }
      ]
    },
    {
      "cell_type": "code",
      "metadata": {
        "id": "wBVpG-xFn9Ao",
        "colab_type": "code",
        "outputId": "f463c913-4134-4eaf-87c1-0ddf7f791e5b",
        "colab": {
          "base_uri": "https://localhost:8080/",
          "height": 124
        }
      },
      "source": [
        "#load my drive\n",
        "from google.colab import drive\n",
        "drive.mount('/content/drive')"
      ],
      "execution_count": 2,
      "outputs": [
        {
          "output_type": "stream",
          "text": [
            "Go to this URL in a browser: https://accounts.google.com/o/oauth2/auth?client_id=947318989803-6bn6qk8qdgf4n4g3pfee6491hc0brc4i.apps.googleusercontent.com&redirect_uri=urn%3aietf%3awg%3aoauth%3a2.0%3aoob&response_type=code&scope=email%20https%3a%2f%2fwww.googleapis.com%2fauth%2fdocs.test%20https%3a%2f%2fwww.googleapis.com%2fauth%2fdrive%20https%3a%2f%2fwww.googleapis.com%2fauth%2fdrive.photos.readonly%20https%3a%2f%2fwww.googleapis.com%2fauth%2fpeopleapi.readonly\n",
            "\n",
            "Enter your authorization code:\n",
            "··········\n",
            "Mounted at /content/drive\n"
          ],
          "name": "stdout"
        }
      ]
    },
    {
      "cell_type": "code",
      "metadata": {
        "id": "mYfiZx4bZCOe",
        "colab_type": "code",
        "colab": {
          "base_uri": "https://localhost:8080/",
          "height": 34
        },
        "outputId": "b767f623-2b9d-4953-ea53-7e542b1b8a39"
      },
      "source": [
        "# Load the image\n",
        "img = cv2.imread(\"/content/drive/My Drive/innopolis/1st year courses/2nd term/CV/GP/data/human.jpg\")\n",
        "new_im = cv2.resize(img, (257,257)).reshape((1, 257, 257, 3))\n",
        "new_im = new_im.astype(np.float32)\n",
        "print(new_im.shape)"
      ],
      "execution_count": 37,
      "outputs": [
        {
          "output_type": "stream",
          "text": [
            "(1, 257, 257, 3)\n"
          ],
          "name": "stdout"
        }
      ]
    },
    {
      "cell_type": "code",
      "metadata": {
        "id": "k48oPMyjnxjC",
        "colab_type": "code",
        "colab": {}
      },
      "source": [
        "# Load TFLite model and allocate tensors.\n",
        "path = \"/content/drive/My Drive/innopolis/1st year courses/2nd term/CV/GP/posenet.tflite\"\n",
        "interpreter = tf.lite.Interpreter(model_path=path)\n",
        "interpreter.allocate_tensors()"
      ],
      "execution_count": 0,
      "outputs": []
    },
    {
      "cell_type": "code",
      "metadata": {
        "id": "fMtGDFc-ozAC",
        "colab_type": "code",
        "colab": {}
      },
      "source": [
        "# Get input and output tensors.\n",
        "input_details = interpreter.get_input_details()\n",
        "output_details = interpreter.get_output_details()"
      ],
      "execution_count": 0,
      "outputs": []
    },
    {
      "cell_type": "code",
      "metadata": {
        "id": "tAjYV1v3opNC",
        "colab_type": "code",
        "colab": {}
      },
      "source": [
        "# Test model on random input data.\n",
        "#input_shape = input_details[0]['shape']   # get the shape\n",
        "input_index = interpreter.get_input_details()[0]['index']   # get the index\n",
        "#new_im = new_im.reshape((input_shape))  #reshape\n",
        "#x = np.asarray(new_im).astype(np.float32)   # convert to float32\n",
        "\n",
        "\n",
        "interpreter.set_tensor(input_index, new_im)\n",
        "interpreter.invoke()"
      ],
      "execution_count": 0,
      "outputs": []
    },
    {
      "cell_type": "code",
      "metadata": {
        "id": "uGL9BVE7pN1g",
        "colab_type": "code",
        "outputId": "5d87bc4b-8458-4fb9-e4fc-d32be3354ee8",
        "colab": {
          "base_uri": "https://localhost:8080/",
          "height": 52
        }
      },
      "source": [
        "# The function `get_tensor()` returns a copy of the tensor data.\n",
        "# Use `tensor()` in order to get a pointer to the tensor.\n",
        "output_data = interpreter.get_tensor(output_details[0]['index'])\n",
        "output_offset = interpreter.get_tensor(output_details[1]['index'])\n",
        "output_data = output_data[0]\n",
        "output_offset = output_offset[0]\n",
        "print(output_data.shape)\n",
        "print(output_offset.shape)\n"
      ],
      "execution_count": 41,
      "outputs": [
        {
          "output_type": "stream",
          "text": [
            "(9, 9, 17)\n",
            "(9, 9, 34)\n"
          ],
          "name": "stdout"
        }
      ]
    },
    {
      "cell_type": "code",
      "metadata": {
        "id": "aqHo-LK21tO9",
        "colab_type": "code",
        "colab": {}
      },
      "source": [
        "# sigmoid function\n",
        "def sigmoid(a):\n",
        "  return 1/(1 + np.exp(-a))\n",
        "# Reference\n",
        "# https://www.geeksforgeeks.org/implement-sigmoid-function-using-numpy/"
      ],
      "execution_count": 0,
      "outputs": []
    },
    {
      "cell_type": "code",
      "metadata": {
        "id": "VGZ9AFOZ29aG",
        "colab_type": "code",
        "colab": {}
      },
      "source": [
        "def get_keypoints(heatmaps, offsets, output_stride=8):\n",
        "        scores = sigmoid(heatmaps) # step1: sigmoid\n",
        "        num_keypoints = scores.shape[2]   # 17\n",
        "        heatmap_positions = []\n",
        "        offset_vectors = []\n",
        "        confidences = []\n",
        "        for k in range(num_keypoints ): # loop all the keypoints\n",
        "            x,y = np.unravel_index(np.argmax(scores[:,:,k]), scores[:,:,k].shape) # get the x,y position\n",
        "            confidences.append(scores[x,y,k])\n",
        "            print(scores[x,y,k])\n",
        "            offset_vector = (offsets[y,x,k], offsets[y,x,num_keypoints+k])  # the offset_vector\n",
        "            heatmap_positions.append((x,y))   # store the indicies of the max\n",
        "            offset_vectors.append(offset_vector)\n",
        "        image_positions = np.add(np.array(heatmap_positions) * output_stride, offset_vectors)\n",
        "        keypoints = [KeyPoint(i, pos, confidences[i]) for i, pos in enumerate(image_positions)]\n",
        "        return keypoints"
      ],
      "execution_count": 0,
      "outputs": []
    },
    {
      "cell_type": "code",
      "metadata": {
        "id": "miPIvg3hIUmK",
        "colab_type": "code",
        "colab": {}
      },
      "source": [
        "PARTS = {\n",
        "    0: 'NOSE',\n",
        "    1: 'LEFT_EYE',\n",
        "    2: 'RIGHT_EYE',\n",
        "    3: 'LEFT_EAR',\n",
        "    4: 'RIGHT_EAR',\n",
        "    5: 'LEFT_SHOULDER',\n",
        "    6: 'RIGHT_SHOULDER',\n",
        "    7: 'LEFT_ELBOW',\n",
        "    8: 'RIGHT_ELBOW',\n",
        "    9: 'LEFT_WRIST',\n",
        "    10: 'RIGHT_WRIST',\n",
        "    11: 'LEFT_HIP',\n",
        "    12: 'RIGHT_HIP',\n",
        "    13: 'LEFT_KNEE',\n",
        "    14: 'RIGHT_KNEE',\n",
        "    15: 'LEFT_ANKLE',\n",
        "    16: 'RIGHT_ANKLE'\n",
        "}"
      ],
      "execution_count": 0,
      "outputs": []
    },
    {
      "cell_type": "code",
      "metadata": {
        "id": "QSBJuCb_3XB_",
        "colab_type": "code",
        "colab": {}
      },
      "source": [
        "class KeyPoint():\n",
        "    def __init__(self, index, pos, v):\n",
        "        x, y = pos\n",
        "        self.x = x\n",
        "        self.y = y\n",
        "        self.index = index\n",
        "        self.body_part = PARTS.get(index)\n",
        "        self.confidence = v\n",
        "\n",
        "    def point(self):\n",
        "        return int(self.y), int(self.x)\n",
        "\n",
        "    def to_string(self):\n",
        "        return 'part: {} location: {} confidence: {}'.format(\n",
        "            self.body_part, (self.x, self.y), self.confidence)"
      ],
      "execution_count": 0,
      "outputs": []
    },
    {
      "cell_type": "code",
      "metadata": {
        "id": "-luj7SjAoJdI",
        "colab_type": "code",
        "colab": {
          "base_uri": "https://localhost:8080/",
          "height": 312
        },
        "outputId": "90f1e814-e3fe-4412-e845-ec439552769f"
      },
      "source": [
        "keypoints = get_keypoints(output_data, output_offset)"
      ],
      "execution_count": 55,
      "outputs": [
        {
          "output_type": "stream",
          "text": [
            "0.005571248\n",
            "0.008315361\n",
            "0.0220139\n",
            "0.05941798\n",
            "0.018933624\n",
            "0.22073653\n",
            "0.047164094\n",
            "0.09677105\n",
            "0.060331803\n",
            "0.008820234\n",
            "0.017026225\n",
            "0.021248786\n",
            "0.015841786\n",
            "0.020730497\n",
            "0.0044449703\n",
            "0.0033449281\n",
            "0.004523641\n"
          ],
          "name": "stdout"
        }
      ]
    },
    {
      "cell_type": "code",
      "metadata": {
        "id": "t5IszLQQMhBU",
        "colab_type": "code",
        "outputId": "8b9e18ae-3004-4457-c65c-7a8248203b5d",
        "colab": {
          "base_uri": "https://localhost:8080/",
          "height": 286
        }
      },
      "source": [
        "# Draw points on the image \n",
        "#print(img.shape)\n",
        "draw_on = cv2.resize(img, (257,257))\n",
        "#print(draw_on.shape)\n",
        "draw = cv2.cvtColor(draw_on, cv2.COLOR_BGR2RGB)\n",
        "\n",
        "for i in keypoints:\n",
        "  center = i.point()\n",
        "  cv2.circle(draw, center, 2, (255,0,0), -1)\n",
        "\n",
        "plt.imshow(draw)\n",
        "#Reference\n",
        "#cv.Circle(img, center, radius, color, thickness=1, lineType=8, shift=0)"
      ],
      "execution_count": 56,
      "outputs": [
        {
          "output_type": "execute_result",
          "data": {
            "text/plain": [
              "<matplotlib.image.AxesImage at 0x7f38a0dd70b8>"
            ]
          },
          "metadata": {
            "tags": []
          },
          "execution_count": 56
        },
        {
          "output_type": "display_data",
          "data": {
            "image/png": "[encoded data removed]",
            "text/plain": [
              "<Figure size 432x288 with 1 Axes>"
            ]
          },
          "metadata": {
            "tags": []
          }
        }
      ]
    }
  ]
}