{
  "nbformat": 4,
  "nbformat_minor": 0,
  "metadata": {
    "colab": {
      "name": "TFlite.ipynb",
      "provenance": [],
      "authorship_tag": "ABX9TyMq3CcGbLmejYALFRjYcIN+",
      "include_colab_link": true
    },
    "kernelspec": {
      "name": "python3",
      "display_name": "Python 3"
    }
  },
  "cells": [
    {
      "cell_type": "markdown",
      "metadata": {
        "id": "view-in-github",
        "colab_type": "text"
      },
      "source": [
        "<a href=\"https://colab.research.google.com/github/mohamedsayed18/Pose_estimation/blob/master/TFlite.ipynb\" target=\"_parent\"><img src=\"https://colab.research.google.com/assets/colab-badge.svg\" alt=\"Open In Colab\"/></a>"
      ]
    },
    {
      "cell_type": "code",
      "metadata": {
        "id": "lT4u28-Knb6n",
        "colab_type": "code",
        "colab": {}
      },
      "source": [
        "import numpy as np\n",
        "import tensorflow as tf\n",
        "import cv2 \n",
        "from matplotlib import pyplot as plt"
      ],
      "execution_count": 0,
      "outputs": []
    },
    {
      "cell_type": "code",
      "metadata": {
        "id": "wBVpG-xFn9Ao",
        "colab_type": "code",
        "outputId": "4c58a753-63b0-47c9-fdb6-e49fea36293d",
        "colab": {
          "base_uri": "https://localhost:8080/",
          "height": 34
        }
      },
      "source": [
        "#load my drive\n",
        "from google.colab import drive\n",
        "drive.mount('/content/drive')"
      ],
      "execution_count": 30,
      "outputs": [
        {
          "output_type": "stream",
          "text": [
            "Drive already mounted at /content/drive; to attempt to forcibly remount, call drive.mount(\"/content/drive\", force_remount=True).\n"
          ],
          "name": "stdout"
        }
      ]
    },
    {
      "cell_type": "code",
      "metadata": {
        "id": "mYfiZx4bZCOe",
        "colab_type": "code",
        "colab": {}
      },
      "source": [
        "# Load the image\n",
        "img = cv2.imread(\"/content/drive/My Drive/innopolis/1st year courses/2nd term/CV/GP/data/im0002.jpg\")\n",
        "new_im = cv2.resize(img, (257,257))"
      ],
      "execution_count": 0,
      "outputs": []
    },
    {
      "cell_type": "code",
      "metadata": {
        "id": "k48oPMyjnxjC",
        "colab_type": "code",
        "colab": {}
      },
      "source": [
        "# Load TFLite model and allocate tensors.\n",
        "path = \"/content/drive/My Drive/innopolis/1st year courses/2nd term/CV/GP/posenet.tflite\"\n",
        "interpreter = tf.lite.Interpreter(model_path=path)\n",
        "interpreter.allocate_tensors()"
      ],
      "execution_count": 0,
      "outputs": []
    },
    {
      "cell_type": "code",
      "metadata": {
        "id": "fMtGDFc-ozAC",
        "colab_type": "code",
        "colab": {}
      },
      "source": [
        "# Get input and output tensors.\n",
        "input_details = interpreter.get_input_details()\n",
        "output_details = interpreter.get_output_details()"
      ],
      "execution_count": 0,
      "outputs": []
    },
    {
      "cell_type": "code",
      "metadata": {
        "id": "tAjYV1v3opNC",
        "colab_type": "code",
        "colab": {}
      },
      "source": [
        "# Test model on random input data.\n",
        "input_shape = input_details[0]['shape']   # get the shape\n",
        "input_index = interpreter.get_input_details()[0]['index']   # get the index\n",
        "new_im = new_im.reshape((input_shape))  #reshape\n",
        "x = np.asarray(new_im).astype(np.float32)   # convert to float32\n",
        "\n",
        "\n",
        "interpreter.set_tensor(input_index, x)\n",
        "interpreter.invoke()"
      ],
      "execution_count": 0,
      "outputs": []
    },
    {
      "cell_type": "code",
      "metadata": {
        "id": "uGL9BVE7pN1g",
        "colab_type": "code",
        "colab": {}
      },
      "source": [
        "# The function `get_tensor()` returns a copy of the tensor data.\n",
        "# Use `tensor()` in order to get a pointer to the tensor.\n",
        "output_data = interpreter.get_tensor(output_details[0]['index'])\n"
      ],
      "execution_count": 0,
      "outputs": []
    }
  ]
}