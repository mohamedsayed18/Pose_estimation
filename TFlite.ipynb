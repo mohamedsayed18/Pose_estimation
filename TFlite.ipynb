{
  "nbformat": 4,
  "nbformat_minor": 0,
  "metadata": {
    "colab": {
      "name": "TFlite.ipynb",
      "provenance": [],
      "authorship_tag": "ABX9TyPXNvKE1SxR9ex+nVbra6ox",
      "include_colab_link": true
    },
    "kernelspec": {
      "name": "python3",
      "display_name": "Python 3"
    }
  },
  "cells": [
    {
      "cell_type": "markdown",
      "metadata": {
        "id": "view-in-github",
        "colab_type": "text"
      },
      "source": [
        "<a href=\"https://colab.research.google.com/github/mohamedsayed18/Pose_estimation/blob/master/TFlite.ipynb\" target=\"_parent\"><img src=\"https://colab.research.google.com/assets/colab-badge.svg\" alt=\"Open In Colab\"/></a>"
      ]
    },
    {
      "cell_type": "code",
      "metadata": {
        "id": "lT4u28-Knb6n",
        "colab_type": "code",
        "outputId": "4e63bfde-cc66-4c4d-fe2a-46319cfcfac8",
        "colab": {
          "base_uri": "https://localhost:8080/",
          "height": 64
        }
      },
      "source": [
        "import numpy as np\n",
        "import tensorflow as tf\n",
        "import cv2 \n",
        "from matplotlib import pyplot as plt"
      ],
      "execution_count": 0,
      "outputs": [
        {
          "output_type": "display_data",
          "data": {
            "text/html": [
              "<p style=\"color: red;\">\n",
              "The default version of TensorFlow in Colab will soon switch to TensorFlow 2.x.<br>\n",
              "We recommend you <a href=\"https://www.tensorflow.org/guide/migrate\" target=\"_blank\">upgrade</a> now \n",
              "or ensure your notebook will continue to use TensorFlow 1.x via the <code>%tensorflow_version 1.x</code> magic:\n",
              "<a href=\"https://colab.research.google.com/notebooks/tensorflow_version.ipynb\" target=\"_blank\">more info</a>.</p>\n"
            ],
            "text/plain": [
              "<IPython.core.display.HTML object>"
            ]
          },
          "metadata": {
            "tags": []
          }
        }
      ]
    },
    {
      "cell_type": "code",
      "metadata": {
        "id": "wBVpG-xFn9Ao",
        "colab_type": "code",
        "outputId": "29b27dd1-e30d-46ec-cf4f-40fc92c1a31c",
        "colab": {
          "base_uri": "https://localhost:8080/",
          "height": 124
        }
      },
      "source": [
        "#load my drive\n",
        "from google.colab import drive\n",
        "drive.mount('/content/drive')"
      ],
      "execution_count": 0,
      "outputs": [
        {
          "output_type": "stream",
          "text": [
            "Go to this URL in a browser: https://accounts.google.com/o/oauth2/auth?client_id=947318989803-6bn6qk8qdgf4n4g3pfee6491hc0brc4i.apps.googleusercontent.com&redirect_uri=urn%3aietf%3awg%3aoauth%3a2.0%3aoob&response_type=code&scope=email%20https%3a%2f%2fwww.googleapis.com%2fauth%2fdocs.test%20https%3a%2f%2fwww.googleapis.com%2fauth%2fdrive%20https%3a%2f%2fwww.googleapis.com%2fauth%2fdrive.photos.readonly%20https%3a%2f%2fwww.googleapis.com%2fauth%2fpeopleapi.readonly\n",
            "\n",
            "Enter your authorization code:\n",
            "··········\n",
            "Mounted at /content/drive\n"
          ],
          "name": "stdout"
        }
      ]
    },
    {
      "cell_type": "code",
      "metadata": {
        "id": "mYfiZx4bZCOe",
        "colab_type": "code",
        "colab": {}
      },
      "source": [
        "# Load the image\n",
        "img = cv2.imread(\"/content/drive/My Drive/innopolis/1st year courses/2nd term/CV/GP/data/im0002.jpg\")\n",
        "new_im = cv2.resize(img, (257,257))"
      ],
      "execution_count": 0,
      "outputs": []
    },
    {
      "cell_type": "code",
      "metadata": {
        "id": "k48oPMyjnxjC",
        "colab_type": "code",
        "colab": {}
      },
      "source": [
        "# Load TFLite model and allocate tensors.\n",
        "path = \"/content/drive/My Drive/innopolis/1st year courses/2nd term/CV/GP/posenet.tflite\"\n",
        "interpreter = tf.lite.Interpreter(model_path=path)\n",
        "interpreter.allocate_tensors()"
      ],
      "execution_count": 0,
      "outputs": []
    },
    {
      "cell_type": "code",
      "metadata": {
        "id": "fMtGDFc-ozAC",
        "colab_type": "code",
        "colab": {}
      },
      "source": [
        "# Get input and output tensors.\n",
        "input_details = interpreter.get_input_details()\n",
        "output_details = interpreter.get_output_details()"
      ],
      "execution_count": 0,
      "outputs": []
    },
    {
      "cell_type": "code",
      "metadata": {
        "id": "tAjYV1v3opNC",
        "colab_type": "code",
        "colab": {}
      },
      "source": [
        "#img = cv2.imread(\"/content/drive/My Drive/innopolis/1st year courses/2nd term/CV/GP/data/im0002.jpg\")\n",
        "# Test model on random input data.\n",
        "input_shape = input_details[0]['shape']   # get the shape\n",
        "input_index = interpreter.get_input_details()[0]['index']   # get the index\n",
        "new_im = new_im.reshape((input_shape))  #reshape\n",
        "x = np.asarray(new_im).astype(np.float32)   # convert to float32\n",
        "\n",
        "\n",
        "interpreter.set_tensor(input_index, x)\n",
        "interpreter.invoke()"
      ],
      "execution_count": 0,
      "outputs": []
    },
    {
      "cell_type": "code",
      "metadata": {
        "id": "uGL9BVE7pN1g",
        "colab_type": "code",
        "outputId": "d3c3bcb7-580c-4911-8317-5ae7fbbaa054",
        "colab": {
          "base_uri": "https://localhost:8080/",
          "height": 1000
        }
      },
      "source": [
        "# The function `get_tensor()` returns a copy of the tensor data.\n",
        "# Use `tensor()` in order to get a pointer to the tensor.\n",
        "output_data = interpreter.get_tensor(output_details[0]['index'])\n",
        "print(output_data.shape)\n",
        "print (output_data)"
      ],
      "execution_count": 0,
      "outputs": [
        {
          "output_type": "stream",
          "text": [
            "(1, 9, 9, 17)\n",
            "[[[[-12.103102  -13.412443  -11.969072  ... -10.503205   -9.950239\n",
            "     -9.60874  ]\n",
            "   [-10.471811  -12.704063  -11.942806  ... -10.832616   -9.742912\n",
            "     -9.1458   ]\n",
            "   [-12.99206   -13.86536   -12.508657  ... -11.341109  -10.686723\n",
            "    -10.263073 ]\n",
            "   ...\n",
            "   [-16.958427  -17.114805  -17.100107  ... -14.025278  -13.521445\n",
            "    -13.995409 ]\n",
            "   [-13.849909  -15.714219  -15.785658  ... -12.887864  -11.957799\n",
            "    -12.980194 ]\n",
            "   [-10.165682  -11.682789  -11.686472  ...  -9.528605  -10.3153925\n",
            "    -10.504871 ]]\n",
            "\n",
            "  [[-10.031876  -12.556335  -11.943453  ... -12.512616  -11.236356\n",
            "    -10.890425 ]\n",
            "   [ -9.267262  -10.342054  -10.820351  ... -10.049693  -10.424857\n",
            "     -9.2112465]\n",
            "   [-12.234393  -11.214573  -10.442067  ...  -9.637682  -10.024852\n",
            "     -9.807783 ]\n",
            "   ...\n",
            "   [-14.327654  -13.490206  -13.933462  ... -11.042529  -10.485789\n",
            "    -11.889557 ]\n",
            "   [-14.377781  -16.434563  -15.808243  ... -12.952103  -13.001435\n",
            "    -13.376442 ]\n",
            "   [-10.034048  -10.46348   -11.186944  ... -10.152862  -10.070863\n",
            "    -10.20916  ]]\n",
            "\n",
            "  [[-10.1249275 -13.670197  -12.921364  ... -11.008569   -9.6704235\n",
            "     -9.42037  ]\n",
            "   [ -9.601252  -11.823589  -12.706924  ... -10.46662   -10.079554\n",
            "     -9.73411  ]\n",
            "   [ -7.346875   -8.23108    -7.7890677 ...  -8.667915  -10.187963\n",
            "     -9.297871 ]\n",
            "   ...\n",
            "   [-11.389618  -10.263672  -10.701843  ...  -9.748496   -9.844601\n",
            "    -10.081181 ]\n",
            "   [-12.201549  -12.47585   -11.541915  ... -11.262643  -11.941573\n",
            "    -12.018612 ]\n",
            "   [ -9.392271   -8.575      -9.283347  ...  -8.14857    -9.037713\n",
            "     -8.825395 ]]\n",
            "\n",
            "  ...\n",
            "\n",
            "  [[ -8.959535   -9.127619   -9.650917  ...  -7.5425987  -7.407277\n",
            "     -7.2799973]\n",
            "   [ -9.299845   -9.81834   -10.472296  ...  -8.986766   -9.130042\n",
            "     -8.800999 ]\n",
            "   [ -9.284292   -9.842808  -10.146961  ...  -8.5145     -7.6561203\n",
            "     -7.072883 ]\n",
            "   ...\n",
            "   [-12.305998  -12.098564  -12.727547  ...  -7.843827   -7.8482046\n",
            "     -7.6087995]\n",
            "   [-13.090276  -12.673409  -11.330085  ...  -9.448577   -9.461911\n",
            "     -8.853952 ]\n",
            "   [-10.134014  -10.94537   -10.503174  ...  -8.320326   -7.0746994\n",
            "     -6.7341805]]\n",
            "\n",
            "  [[-10.544546  -10.160719  -10.970301  ...  -8.920046   -8.856454\n",
            "     -8.445517 ]\n",
            "   [ -9.485899   -8.682343  -10.17366   ...  -7.8649306  -8.530348\n",
            "     -8.3464985]\n",
            "   [ -9.982195  -10.479088  -10.895763  ...  -8.161805   -8.2600355\n",
            "     -7.8130193]\n",
            "   ...\n",
            "   [-13.400507  -12.324195  -12.126286  ...  -8.222105   -8.221295\n",
            "     -7.466885 ]\n",
            "   [-14.05424   -11.593794  -11.588142  ...  -8.684141   -8.873432\n",
            "     -7.747315 ]\n",
            "   [-14.57542   -13.246968  -13.135807  ...  -9.36436    -8.985917\n",
            "     -7.7689185]]\n",
            "\n",
            "  [[-10.433534  -10.371094  -10.542311  ...  -8.973173   -8.5432415\n",
            "     -8.630091 ]\n",
            "   [-10.496759  -10.214521  -11.130446  ...  -9.02795    -7.8496943\n",
            "     -7.992431 ]\n",
            "   [ -9.883933  -10.113609  -11.041988  ...  -7.9067564  -7.293168\n",
            "     -7.1884084]\n",
            "   ...\n",
            "   [-11.030284  -11.557357  -11.46472   ...  -8.136446   -7.6920834\n",
            "     -7.209971 ]\n",
            "   [-13.820012  -12.828705  -12.444431  ... -10.3529005 -10.7326145\n",
            "     -9.684902 ]\n",
            "   [-11.841232  -11.584608  -10.554606  ...  -8.686053   -8.61937\n",
            "     -7.9387436]]]]\n"
          ],
          "name": "stdout"
        }
      ]
    }
  ]
}