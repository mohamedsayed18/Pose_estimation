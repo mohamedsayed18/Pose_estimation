{
  "nbformat": 4,
  "nbformat_minor": 0,
  "metadata": {
    "colab": {
      "name": "TFlite.ipynb",
      "provenance": [],
      "authorship_tag": "ABX9TyONhns1+qK95xirSu3oVwAn",
      "include_colab_link": true
    },
    "kernelspec": {
      "name": "python3",
      "display_name": "Python 3"
    }
  },
  "cells": [
    {
      "cell_type": "markdown",
      "metadata": {
        "id": "view-in-github",
        "colab_type": "text"
      },
      "source": [
        "<a href=\"https://colab.research.google.com/github/mohamedsayed18/Pose_estimation/blob/master/TFlite.ipynb\" target=\"_parent\"><img src=\"https://colab.research.google.com/assets/colab-badge.svg\" alt=\"Open In Colab\"/></a>"
      ]
    },
    {
      "cell_type": "code",
      "metadata": {
        "id": "lT4u28-Knb6n",
        "colab_type": "code",
        "colab": {}
      },
      "source": [
        "import numpy as np\n",
        "import tensorflow as tf\n",
        "import cv2 \n",
        "from matplotlib import pyplot as plt"
      ],
      "execution_count": 0,
      "outputs": []
    },
    {
      "cell_type": "code",
      "metadata": {
        "id": "wBVpG-xFn9Ao",
        "colab_type": "code",
        "outputId": "4c58a753-63b0-47c9-fdb6-e49fea36293d",
        "colab": {
          "base_uri": "https://localhost:8080/",
          "height": 34
        }
      },
      "source": [
        "#load my drive\n",
        "from google.colab import drive\n",
        "drive.mount('/content/drive')"
      ],
      "execution_count": 0,
      "outputs": [
        {
          "output_type": "stream",
          "text": [
            "Drive already mounted at /content/drive; to attempt to forcibly remount, call drive.mount(\"/content/drive\", force_remount=True).\n"
          ],
          "name": "stdout"
        }
      ]
    },
    {
      "cell_type": "code",
      "metadata": {
        "id": "mYfiZx4bZCOe",
        "colab_type": "code",
        "colab": {}
      },
      "source": [
        "# Load the image\n",
        "img = cv2.imread(\"/content/drive/My Drive/innopolis/1st year courses/2nd term/CV/GP/data/im0002.jpg\")\n",
        "new_im = cv2.resize(img, (257,257))"
      ],
      "execution_count": 0,
      "outputs": []
    },
    {
      "cell_type": "code",
      "metadata": {
        "id": "k48oPMyjnxjC",
        "colab_type": "code",
        "colab": {}
      },
      "source": [
        "# Load TFLite model and allocate tensors.\n",
        "path = \"/content/drive/My Drive/innopolis/1st year courses/2nd term/CV/GP/posenet.tflite\"\n",
        "interpreter = tf.lite.Interpreter(model_path=path)\n",
        "interpreter.allocate_tensors()"
      ],
      "execution_count": 0,
      "outputs": []
    },
    {
      "cell_type": "code",
      "metadata": {
        "id": "fMtGDFc-ozAC",
        "colab_type": "code",
        "colab": {}
      },
      "source": [
        "# Get input and output tensors.\n",
        "input_details = interpreter.get_input_details()\n",
        "output_details = interpreter.get_output_details()"
      ],
      "execution_count": 0,
      "outputs": []
    },
    {
      "cell_type": "code",
      "metadata": {
        "id": "tAjYV1v3opNC",
        "colab_type": "code",
        "colab": {}
      },
      "source": [
        "# Test model on random input data.\n",
        "input_shape = input_details[0]['shape']   # get the shape\n",
        "input_index = interpreter.get_input_details()[0]['index']   # get the index\n",
        "new_im = new_im.reshape((input_shape))  #reshape\n",
        "x = np.asarray(new_im).astype(np.float32)   # convert to float32\n",
        "\n",
        "\n",
        "interpreter.set_tensor(input_index, x)\n",
        "interpreter.invoke()"
      ],
      "execution_count": 0,
      "outputs": []
    },
    {
      "cell_type": "code",
      "metadata": {
        "id": "uGL9BVE7pN1g",
        "colab_type": "code",
        "outputId": "cd36cebb-c3e9-4b71-e89a-7054eac5d211",
        "colab": {
          "base_uri": "https://localhost:8080/",
          "height": 34
        }
      },
      "source": [
        "# The function `get_tensor()` returns a copy of the tensor data.\n",
        "# Use `tensor()` in order to get a pointer to the tensor.\n",
        "output_data = interpreter.get_tensor(output_details[0]['index'])\n",
        "output_offset = interpreter.get_tensor(output_details[1]['index'])\n",
        "print(output_offset.shape)\n"
      ],
      "execution_count": 95,
      "outputs": [
        {
          "output_type": "stream",
          "text": [
            "(1, 9, 9, 34)\n"
          ],
          "name": "stdout"
        }
      ]
    },
    {
      "cell_type": "code",
      "metadata": {
        "id": "aqHo-LK21tO9",
        "colab_type": "code",
        "colab": {}
      },
      "source": [
        "# sigmoid function\n",
        "def sigmoid(a):\n",
        "  return 1/(1 + np.exp(-a))\n",
        "# Reference\n",
        "#https://www.geeksforgeeks.org/implement-sigmoid-function-using-numpy/"
      ],
      "execution_count": 0,
      "outputs": []
    },
    {
      "cell_type": "code",
      "metadata": {
        "id": "miPIvg3hIUmK",
        "colab_type": "code",
        "colab": {}
      },
      "source": [
        "PARTS = {\n",
        "    0: 'NOSE',\n",
        "    1: 'LEFT_EYE',\n",
        "    2: 'RIGHT_EYE',\n",
        "    3: 'LEFT_EAR',\n",
        "    4: 'RIGHT_EAR',\n",
        "    5: 'LEFT_SHOULDER',\n",
        "    6: 'RIGHT_SHOULDER',\n",
        "    7: 'LEFT_ELBOW',\n",
        "    8: 'RIGHT_ELBOW',\n",
        "    9: 'LEFT_WRIST',\n",
        "    10: 'RIGHT_WRIST',\n",
        "    11: 'LEFT_HIP',\n",
        "    12: 'RIGHT_HIP',\n",
        "    13: 'LEFT_KNEE',\n",
        "    14: 'RIGHT_KNEE',\n",
        "    15: 'LEFT_ANKLE',\n",
        "    16: 'RIGHT_ANKLE'\n",
        "}"
      ],
      "execution_count": 0,
      "outputs": []
    },
    {
      "cell_type": "code",
      "metadata": {
        "id": "QSBJuCb_3XB_",
        "colab_type": "code",
        "colab": {}
      },
      "source": [
        "class KeyPoint():\n",
        "    def __init__(self, index, pos, v):\n",
        "        x, y = pos\n",
        "        self.x = x\n",
        "        self.y = y\n",
        "        self.index = index\n",
        "        self.body_part = PARTS.get(index)\n",
        "        self.confidence = v\n",
        "\n",
        "    def point(self):\n",
        "        return int(self.y), int(self.x)\n",
        "\n",
        "    def to_string(self):\n",
        "        return 'part: {} location: {} confidence: {}'.format(\n",
        "            self.body_part, (self.x, self.y), self.confidence)"
      ],
      "execution_count": 0,
      "outputs": []
    },
    {
      "cell_type": "code",
      "metadata": {
        "id": "VGZ9AFOZ29aG",
        "colab_type": "code",
        "colab": {}
      },
      "source": [
        "def get_keypoints(heatmaps, offsets, output_stride=32):\n",
        "        scores = sigmoid(heatmaps)\n",
        "        num_keypoints = scores.shape[2]\n",
        "        heatmap_positions = []\n",
        "        offset_vectors = []\n",
        "        confidences = []\n",
        "        for ki in range(0, num_keypoints ):\n",
        "            x,y = np.unravel_index(np.argmax(scores[:,:,ki]), scores[:,:,ki].shape)\n",
        "            confidences.append(scores[x,y,ki])\n",
        "            offset_vector = (offsets[y,x,ki], offsets[y,x,num_keypoints+ki])\n",
        "            heatmap_positions.append((x,y))\n",
        "            offset_vectors.append(offset_vector)\n",
        "        image_positions = np.add(np.array(heatmap_positions) * output_stride, offset_vectors)\n",
        "        keypoints = [KeyPoint(i, pos, confidences[i]) for i, pos in enumerate(image_positions)]\n",
        "        return keypoints"
      ],
      "execution_count": 0,
      "outputs": []
    },
    {
      "cell_type": "code",
      "metadata": {
        "id": "NmKf94PL06q4",
        "colab_type": "code",
        "colab": {
          "base_uri": "https://localhost:8080/",
          "height": 312
        },
        "outputId": "c97f05a5-9118-464a-a8a4-f41b13345d16"
      },
      "source": [
        "#interpreting the output heatmap\n",
        "# taking sigmoid of heatmap\n",
        "scores = sigmoid(output_data[0])\n",
        "offsets = output_offset[0]  \n",
        "num_keypoints = scores.shape[2]\n",
        "\n",
        "heatmap_positions = []\n",
        "offset_vectors = []\n",
        "confidences = []\n",
        "\n",
        "for k in range(num_keypoints):\n",
        "  x, y = np.unravel_index(np.argmax(scores[:,:,k]), scores[:,:,k].shape)\n",
        "  confidences.append(scores[x,y,k])\n",
        "  offset_vector = (offsets[y,x,k], offsets[y,x,num_keypoints+k])\n",
        "\n",
        "  heatmap_positions.append((x,y))\n",
        "  offset_vectors.append(offset_vector)\n",
        "\n",
        "image_positions = np.add(np.array(heatmap_positions) * 32, offset_vectors)\n",
        "\n",
        "keypoint = [KeyPoint(i, pos, confidences[i])for i, pos in enumerate(image_positions)]\n",
        "\n",
        "#print(len(keypoint))\n",
        "for i in range(17):\n",
        "  print(keypoint[i].to_string())\n",
        "#refrence\n",
        "#https://stackoverflow.com/questions/60032705/how-to-parse-the-heatmap-output-for-the-pose-estimation-tflite-model\n",
        "# how unraverl work https://stackoverflow.com/questions/48135736/what-is-an-intuitive-explanation-of-np-unravel-index"
      ],
      "execution_count": 105,
      "outputs": [
        {
          "output_type": "stream",
          "text": [
            "part: NOSE location: (63.61388683319092, 63.53660011291504) confidence: 0.0006441882578656077\n",
            "part: LEFT_EYE location: (126.92070829868317, 254.4178764820099) confidence: 0.00033454925869591534\n",
            "part: RIGHT_EYE location: (96.42712360620499, 67.15237879753113) confidence: 0.0005283950013108552\n",
            "part: LEFT_EAR location: (95.18149185180664, 6.674205303192139) confidence: 0.00037403570604510605\n",
            "part: RIGHT_EAR location: (123.7621078491211, 257.62202858924866) confidence: 0.0002461621770635247\n",
            "part: LEFT_SHOULDER location: (121.60605001449585, -1.2256296873092651) confidence: 0.0003962194314226508\n",
            "part: RIGHT_SHOULDER location: (182.8860902786255, 9.635981559753418) confidence: 0.0003691992606036365\n",
            "part: LEFT_ELBOW location: (162.19057440757751, -1.6407703161239624) confidence: 0.0003833652299363166\n",
            "part: RIGHT_ELBOW location: (160.14137637615204, 93.18889617919922) confidence: 0.0004271281068213284\n",
            "part: LEFT_WRIST location: (130.3547921180725, -2.8289451599121094) confidence: 0.0005362996598705649\n",
            "part: RIGHT_WRIST location: (124.15592050552368, 258.5567750930786) confidence: 0.000330939277773723\n",
            "part: LEFT_HIP location: (217.7313313484192, 27.48526620864868) confidence: 0.0009757966035977006\n",
            "part: RIGHT_HIP location: (157.8307023048401, 96.01931150630116) confidence: 0.0005764227244071662\n",
            "part: LEFT_KNEE location: (255.13979983329773, 100.01039266586304) confidence: 0.0012777062365785241\n",
            "part: RIGHT_KNEE location: (254.97149622440338, 131.52420115470886) confidence: 0.0009302145917899907\n",
            "part: LEFT_ANKLE location: (159.61965796351433, 97.11521053314209) confidence: 0.0015743604162707925\n",
            "part: RIGHT_ANKLE location: (256.0120628476143, 130.93684101104736) confidence: 0.002199425594881177\n"
          ],
          "name": "stdout"
        }
      ]
    }
  ]
}